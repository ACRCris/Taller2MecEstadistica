{
  "nbformat": 4,
  "nbformat_minor": 0,
  "metadata": {
    "colab": {
      "provenance": []
    },
    "kernelspec": {
      "name": "python3",
      "display_name": "Python 3"
    },
    "language_info": {
      "name": "python"
    }
  },
  "cells": [
    {
      "cell_type": "markdown",
      "source": [
        "# Generación de puntos aleatorios"
      ],
      "metadata": {
        "id": "H8PMAgkY-qAz"
      }
    },
    {
      "cell_type": "markdown",
      "source": [
        "Haga un programa que genere al azar estados del dipolo $\\vec{u}$ uniformemente distribuidos sobre la esfera. Esto se logra de manera muy sencilla en coordenadas cilíndricas $(r, \\theta, z)$, fijando $r=u$ y escogiendo $\\theta$ al azar uniformemente distribuído entre $\\theta \\in(0,2 \\pi)$ y $z$ uniformemente distribuido entre $z \\in(-u, u)$. Por lo tanto, basta con generar $u_{z}$ uniformemente distribuido en el intervalo $u_{z} \\in(-u, u)$. Asuma $\\|\\vec{u}\\|=2 \\mathrm{y}$ $B=10$ y tome un número de muestras $N=10000$ muestras para cada temperatura (es decir, para cada valor de $\\mathrm{x}$ ).\n",
        "\n"
      ],
      "metadata": {
        "id": "taZJyZMt-jvT"
      }
    },
    {
      "cell_type": "code",
      "source": [
        "# Utilizando random para genera números aleatorios.\n",
        "import random\n",
        "import numpy as np\n",
        "import matplotlib.pyplot as plt\n",
        "import scipy.integrate as integrate\n",
        "import scipy.constants as constants"
      ],
      "metadata": {
        "id": "jTxMeOkP8_iJ"
      },
      "execution_count": null,
      "outputs": []
    },
    {
      "cell_type": "markdown",
      "source": [
        "#Definción del Método de Monte Carlo"
      ],
      "metadata": {
        "id": "vN09XT0HvP24"
      }
    },
    {
      "cell_type": "code",
      "source": [
        "#@title Definición de la funciónes a usar\n",
        "\n",
        "#Monte Carlo para el calculo del area de un circulo\n",
        "def mc_pi_aprox_circ(N=10000):\n",
        "    plt.figure(figsize=(8,8))  # tamaño de la figura\n",
        "    x, y = np.random.uniform(-1, 1, size=(2, N))\n",
        "    interior = (x**2 + y**2) <= 1 #Lugar donde se pone la función\n",
        "    # pi(r^2)/(L^2)=Puntos Circ/Puntos Cuadrado\n",
        "    pi = interior.sum() * 4 / N #(Puntos Circ/Puntos Cuadrado)*(L^2)/(r^2)\n",
        "    error = abs((pi - np.pi) / pi) * 100\n",
        "    exterior = np.invert(interior)\n",
        "    plt.plot(x[interior], y[interior], 'b.')\n",
        "    plt.plot(x[exterior], y[exterior], 'r.')\n",
        "    plt.plot(0, 0, label='$\\hat \\pi$ = {:4.4f}\\nerror = {:4.4f}%'\n",
        "             .format(pi,error), alpha=0)\n",
        "    plt.axis('square')\n",
        "    plt.legend(frameon=True, framealpha=0.9, fontsize=16)\n",
        "\n",
        "#Monte Carlo para el calculo del area de una función\n",
        "def mc_area_aprox(fn,a,b,N=10000):\n",
        "    x = np.random.uniform(a, b, size=(1, N))#Revisar dimensionalidad\n",
        "    y = np.random.uniform(0,fn(x).max(), size=(1, N))\n",
        "    #Puntos bajo la curva\n",
        "    interior = y <= fn(x)\n",
        "    #Área debajo la funcion/Área del cuadrado =\n",
        "    #Puntos debajo de la funcion/Numero de puntos totales\n",
        "    area = (interior.sum() * (b-a)*fn(x).max()) / N#Área debajo la funcion =\n",
        "    #(Puntos debajo de la funcion*Área del cuadrado)/Numero de puntos totales)\n",
        "    area_ex = integrate.quad(fn,a,b)[0]\n",
        "    error = abs((area - area_ex) / area) * 100\n",
        "    return area, error\n",
        "\n",
        "mc_area_aprox = np.vectorize(mc_area_aprox)\n",
        "\n",
        "#Monte Carlo para el calculo del area de una función y su grafica\n",
        "def mc_area_graph_aprox(fn,a,b,N=10000):\n",
        "    plt.figure(figsize=(8,8))  # tamaño de la figura\n",
        "    x = np.random.uniform(a, b, size=(1, N))#Revisar dimensionalidad\n",
        "    y = np.random.uniform(0,fn(x).max(), size=(1, N))\n",
        "    #Puntos bajo la curva\n",
        "    interior = y <= fn(x)\n",
        "    area = (interior.sum() * (b-a)*fn(x).max()) / N\n",
        "    area_ex = integrate.quad(fn,a,b)[0]\n",
        "    error = abs((area - area_ex) / area) * 100\n",
        "    # area, error = mc_area_aprox(fn,a,b,N=10000)\n",
        "    exterior = np.invert(interior)\n",
        "    plt.xlim(a, b)\n",
        "    plt.ylim(0, fn(x).max())\n",
        "    plt.plot(x[interior], y[interior], 'b.')\n",
        "    plt.plot(x[exterior], y[exterior], 'r.')\n",
        "    plt.plot(0, 0, label='$area:$ = {:4.4f}\\nerror = {:4.4f}%'\n",
        "             .format(area,error), alpha=0)\n",
        "    # plt.axis('square')\n",
        "    plt.legend(frameon=True, framealpha=0.9, fontsize=16)"
      ],
      "metadata": {
        "id": "0iy-KLly8-QR"
      },
      "execution_count": null,
      "outputs": []
    },
    {
      "cell_type": "code",
      "source": [
        "#@title Circulo\n",
        "mc_pi_aprox_circ(int(1e4))"
      ],
      "metadata": {
        "id": "hkhdciWGcl3L"
      },
      "execution_count": null,
      "outputs": []
    },
    {
      "cell_type": "code",
      "source": [
        "#@title e^x\n",
        "a,b = -1,1\n",
        "\n",
        "def fn(x):\n",
        "    return np.exp(x)\n",
        "\n",
        "def area_ex(fn,a,b):\n",
        "    return integrate.quad(fn,a,b)[0]\n",
        "\n",
        "\n",
        "mc_area_graph_aprox(fn,a,b,int(1e5))\n",
        "mc_area_aprox(fn,a,b,int(1e5))"
      ],
      "metadata": {
        "id": "2wIpKHwaH3Gt"
      },
      "execution_count": null,
      "outputs": []
    },
    {
      "cell_type": "markdown",
      "source": [
        "# Resolución de la integral\n",
        "Con los puntos generados, estime por Monte Carlo las dos integrales que aparecen en el literal c), así:\n",
        "\n",
        "$$\n",
        "\\begin{gathered}\n",
        "\\int_{-u}^{u} u_{z} e^{\\beta B u_{z}} d u_{z} \\approx \\frac{1}{N} \\sum_{i=1}^{N} u_{z, i} e^{\\beta B u_{z, i}} \\\\\n",
        "Z=\\int_{-u}^{u} e^{\\beta B u_{z}} d u_{z} \\approx \\frac{1}{N} \\sum_{i=1}^{N} e^{\\beta B u_{z, i}}\n",
        "\\end{gathered}\n",
        "$$\n",
        "\n"
      ],
      "metadata": {
        "id": "Kd_grWaa-pIK"
      }
    },
    {
      "cell_type": "code",
      "source": [
        "#@title Constantes del Sistema\n",
        "#Se deja todo en terminos de K_b\n",
        "k_b = 1#constants.Boltzmann\n",
        "T=1\n",
        "Beta= 1/(T*k_b)\n",
        "B=10\n",
        "a,b=-2,2"
      ],
      "metadata": {
        "id": "rtQP55QSoJci"
      },
      "execution_count": null,
      "outputs": []
    },
    {
      "cell_type": "code",
      "source": [
        "#@title Integrales\n",
        "def arg_z(u_z):\n",
        "    return np.exp(Beta*B*u_z)\n",
        "\n",
        "def arg_vp_nonorm(u_z):\n",
        "    return u_z*np.exp(Beta*B*u_z)\n",
        "\n",
        "pre = int(1e6)"
      ],
      "metadata": {
        "id": "FG4gbKkfnvm5"
      },
      "execution_count": null,
      "outputs": []
    },
    {
      "cell_type": "code",
      "source": [
        "#@title Integral función de partición\n",
        "mc_area_graph_aprox(arg_z,a,b,pre)\n",
        "z_area = mc_area_aprox(arg_z,a,b,pre)[0]\n",
        "print(r\"El valor de $\\left\\langle u_{z}\\right\\rangle$ para $u=2$ es {z_area}\")"
      ],
      "metadata": {
        "id": "euITeKu4ntQj"
      },
      "execution_count": null,
      "outputs": []
    },
    {
      "cell_type": "code",
      "source": [
        "mc_area_graph_aprox(arg_vp_nonorm,a,b,pre)\n",
        "mc_area_aprox(arg_vp_nonorm,a,b,pre)[0]"
      ],
      "metadata": {
        "id": "lXFd0xOpnt97"
      },
      "execution_count": null,
      "outputs": []
    },
    {
      "cell_type": "code",
      "source": [
        "vp = mc_area_aprox(arg_vp_nonorm,a,b,pre)[0]/mc_area_aprox(arg_z,a,b,pre)[0]\n",
        "vp\n"
      ],
      "metadata": {
        "id": "2UH3GGa2Y7k_"
      },
      "execution_count": null,
      "outputs": []
    },
    {
      "cell_type": "markdown",
      "source": [
        "#Grafica de $\\left\\langle u_{z}\\right\\rangle$\n",
        "Estime a partir de ellas el valor de $\\left\\langle u_{z}\\right\\rangle$. Grafique $\\left\\langle u_{z}\\right\\rangle$. En función de $x$ para $0.1 \\leq x<4.0$ en pasos de 0.1 y compare con la curva teórica que se obtiene en el literal c).[texto del vínculo](https://)"
      ],
      "metadata": {
        "id": "ep3RcpyYoPrT"
      }
    },
    {
      "cell_type": "code",
      "source": [
        "u_i =0.1\n",
        "u_f = 4\n",
        "N_pasos = 4*int(1e1)#40\n",
        "u = np.linspace(u_i,u_f,N_pasos)\n",
        "u"
      ],
      "metadata": {
        "id": "1Cc35Fz8d26c"
      },
      "execution_count": null,
      "outputs": []
    },
    {
      "cell_type": "code",
      "source": [
        "#@title Función de Partición\n",
        "def z(u):\n",
        "    return ((4*np.pi)/(u*Beta*B))*np.sinh(Beta*B*u)\n",
        "\n",
        "def z_num(u):\n",
        "    a,b=-u,u\n",
        "    area_z = ((2*np.pi)/u)*mc_area_aprox(arg_z,a,b,pre)\n",
        "    return area_z[0]"
      ],
      "metadata": {
        "id": "W88tRhLnd1_e"
      },
      "execution_count": null,
      "outputs": []
    },
    {
      "cell_type": "code",
      "source": [
        "#@title Gráfica de la Función de Partición\n",
        "plt.title(r\"Función Partición con $B$=10 y $\\beta=1$ \")\n",
        "plt.plot(u,z(u),\"r:\", markersize = 3, label = 'Valores teóricos')\n",
        "         #label = r\"Función exacta $\\frac{2\\pi}{u}\\sinh(2u)$\")\n",
        "plt.scatter(u,z_num(u), c = 'darkblue', label = 'Valores numericos')\n",
        "plt.ylabel(\"Z\")\n",
        "plt.xlabel(\"u\")\n",
        "plt.grid(True, linestyle='--', linewidth=0.8, alpha=0.9)\n",
        "plt.legend()\n",
        "# plt.savefig(\"FuncionParticion\")"
      ],
      "metadata": {
        "id": "_XvxJpDkeOfl"
      },
      "execution_count": null,
      "outputs": []
    },
    {
      "cell_type": "code",
      "source": [
        "#@title Distribución del valor esperado no normalizado\n",
        "def p(u):\n",
        "    return ((4*np.pi)/(u*B*Beta))*(u*np.cosh(u*B*Beta) - (1/(Beta*B))*np.sinh(u*B*Beta))\n",
        "\n",
        "def p_num(u):\n",
        "    a,b=-u,u\n",
        "    area_prob = ((2*np.pi)/u)*mc_area_aprox(arg_vp_nonorm,a,b,pre)\n",
        "    return area_prob[0]\n"
      ],
      "metadata": {
        "id": "o09DMgQStudm"
      },
      "execution_count": null,
      "outputs": []
    },
    {
      "cell_type": "code",
      "source": [
        "#@title Gráfica del valor esperado no normalizado\n",
        "plt.title(r\"Distribución del valor esperado no normalizado con $B$=10 y $\\beta=1$\")\n",
        "plt.plot(u,p(u), \"r:\", markersize = 3, label = 'Valores teóricos')\n",
        "plt.scatter(u,p_num(u), c = 'darkblue', label = 'Valores numericos')\n",
        "plt.ylabel(\"P(u)\")\n",
        "plt.xlabel(\"u\")\n",
        "plt.grid(True, linestyle='--', linewidth=0.8, alpha=0.9)\n",
        "plt.legend()\n",
        "# plt.savefig(\"Probabilidad\")"
      ],
      "metadata": {
        "id": "yoT2-g1ehlVB"
      },
      "execution_count": null,
      "outputs": []
    },
    {
      "cell_type": "code",
      "source": [
        "1e-1"
      ],
      "metadata": {
        "id": "Ptc7NtUVqDhR"
      },
      "execution_count": null,
      "outputs": []
    },
    {
      "cell_type": "code",
      "source": [
        "#@title Valor esperado\n",
        "def vp(u):\n",
        "    return u*(1/np.tanh(u*B*Beta) - 1/(u*B*Beta))\n",
        "\n",
        "def vp_num(u):\n",
        "    return(p_num(u))/(z_num(u))\n"
      ],
      "metadata": {
        "id": "Lm9Eb3x3iR0H"
      },
      "execution_count": null,
      "outputs": []
    },
    {
      "cell_type": "code",
      "source": [
        "#@title Gráfica del Valor esperado\n",
        "plt.title(r\"Valor esperado con $B$=10 y $\\beta=1$\")\n",
        "plt.plot(u,vp(u),\"r:\", markersize = 3, label = 'Valores teóricos')\n",
        "# plt.scatter(u,vp_num(u),c = 'darkblue', label = 'Valores numericos')\n",
        "plt.ylabel(r\"$\\left\\langle u_{z}\\right\\rangle$\")\n",
        "plt.xlabel(\"u\")\n",
        "plt.grid(True, linestyle='--', linewidth=0.8, alpha=0.9)\n",
        "plt.legend()\n",
        "# plt.savefig(\"ValorEsperado\")"
      ],
      "metadata": {
        "id": "viAQg6AjiR0H"
      },
      "execution_count": null,
      "outputs": []
    },
    {
      "cell_type": "code",
      "source": [],
      "metadata": {
        "id": "WaDi8TTUtmXU"
      },
      "execution_count": null,
      "outputs": []
    }
  ]
}